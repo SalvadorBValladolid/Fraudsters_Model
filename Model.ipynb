{
 "cells": [
  {
   "cell_type": "markdown",
   "metadata": {},
   "source": [
    "# Fraudsters Model"
   ]
  },
  {
   "cell_type": "code",
   "execution_count": 34,
   "metadata": {},
   "outputs": [],
   "source": [
    "import pandas as pd\n",
    "import numpy as np\n",
    "import matplotlib.pyplot as plt\n",
    "import seaborn as sns\n",
    "import warnings\n",
    "from sklearn.preprocessing import OneHotEncoder\n",
    "warnings.filterwarnings(\"ignore\")\n",
    "from sklearn.ensemble import RandomForestClassifier\n",
    "from sklearn.model_selection import train_test_split\n",
    "from sklearn.metrics import accuracy_score\n",
    "from sklearn.metrics import classification_report\n",
    "from sklearn.preprocessing import OneHotEncoder\n",
    "import re\n",
    "from sklearn.metrics import confusion_matrix"
   ]
  },
  {
   "cell_type": "code",
   "execution_count": 2,
   "metadata": {},
   "outputs": [],
   "source": [
    "TXN=pd.read_csv(\"ds_challenge_apr2021.csv\")"
   ]
  },
  {
   "cell_type": "code",
   "execution_count": 13,
   "metadata": {},
   "outputs": [
    {
     "data": {
      "text/html": [
       "<div>\n",
       "<style scoped>\n",
       "    .dataframe tbody tr th:only-of-type {\n",
       "        vertical-align: middle;\n",
       "    }\n",
       "\n",
       "    .dataframe tbody tr th {\n",
       "        vertical-align: top;\n",
       "    }\n",
       "\n",
       "    .dataframe thead th {\n",
       "        text-align: right;\n",
       "    }\n",
       "</style>\n",
       "<table border=\"1\" class=\"dataframe\">\n",
       "  <thead>\n",
       "    <tr style=\"text-align: right;\">\n",
       "      <th></th>\n",
       "      <th>ID_USER</th>\n",
       "      <th>genero</th>\n",
       "      <th>monto</th>\n",
       "      <th>fecha</th>\n",
       "      <th>hora</th>\n",
       "      <th>dispositivo</th>\n",
       "      <th>establecimiento</th>\n",
       "      <th>ciudad</th>\n",
       "      <th>tipo_tc</th>\n",
       "      <th>linea_tc</th>\n",
       "      <th>interes_tc</th>\n",
       "      <th>status_txn</th>\n",
       "      <th>is_prime</th>\n",
       "      <th>dcto</th>\n",
       "      <th>cashback</th>\n",
       "      <th>fraude</th>\n",
       "      <th>TXN</th>\n",
       "    </tr>\n",
       "  </thead>\n",
       "  <tbody>\n",
       "    <tr>\n",
       "      <th>0</th>\n",
       "      <td>0</td>\n",
       "      <td>F</td>\n",
       "      <td>608.345634</td>\n",
       "      <td>2020-01-21</td>\n",
       "      <td>20</td>\n",
       "      <td>{'model': 2020, 'device_score': 3, 'os': 'ANDR...</td>\n",
       "      <td>Super</td>\n",
       "      <td>Merida</td>\n",
       "      <td>Física</td>\n",
       "      <td>71000</td>\n",
       "      <td>51</td>\n",
       "      <td>Aceptada</td>\n",
       "      <td>False</td>\n",
       "      <td>60.834563</td>\n",
       "      <td>5.475111</td>\n",
       "      <td>False</td>\n",
       "      <td>1</td>\n",
       "    </tr>\n",
       "    <tr>\n",
       "      <th>1</th>\n",
       "      <td>0</td>\n",
       "      <td>F</td>\n",
       "      <td>88.719243</td>\n",
       "      <td>2020-01-15</td>\n",
       "      <td>7</td>\n",
       "      <td>{'model': 2020, 'device_score': 1, 'os': 'ANDR...</td>\n",
       "      <td>Desconocido</td>\n",
       "      <td>Merida</td>\n",
       "      <td>Virtual</td>\n",
       "      <td>71000</td>\n",
       "      <td>51</td>\n",
       "      <td>Aceptada</td>\n",
       "      <td>False</td>\n",
       "      <td>0.000000</td>\n",
       "      <td>1.774385</td>\n",
       "      <td>False</td>\n",
       "      <td>1</td>\n",
       "    </tr>\n",
       "  </tbody>\n",
       "</table>\n",
       "</div>"
      ],
      "text/plain": [
       "   ID_USER genero       monto       fecha  hora  \\\n",
       "0        0      F  608.345634  2020-01-21    20   \n",
       "1        0      F   88.719243  2020-01-15     7   \n",
       "\n",
       "                                         dispositivo establecimiento  ciudad  \\\n",
       "0  {'model': 2020, 'device_score': 3, 'os': 'ANDR...           Super  Merida   \n",
       "1  {'model': 2020, 'device_score': 1, 'os': 'ANDR...     Desconocido  Merida   \n",
       "\n",
       "   tipo_tc  linea_tc  interes_tc status_txn  is_prime       dcto  cashback  \\\n",
       "0   Física     71000          51   Aceptada     False  60.834563  5.475111   \n",
       "1  Virtual     71000          51   Aceptada     False   0.000000  1.774385   \n",
       "\n",
       "   fraude  TXN  \n",
       "0   False    1  \n",
       "1   False    1  "
      ]
     },
     "execution_count": 13,
     "metadata": {},
     "output_type": "execute_result"
    }
   ],
   "source": [
    "TXN.head(2)"
   ]
  },
  {
   "cell_type": "code",
   "execution_count": 57,
   "metadata": {},
   "outputs": [
    {
     "data": {
      "text/plain": [
       "array(['Super', 'Desconocido', 'MPago', 'Abarrotes', 'Farmacia',\n",
       "       'Restaurante'], dtype=object)"
      ]
     },
     "execution_count": 57,
     "metadata": {},
     "output_type": "execute_result"
    }
   ],
   "source": [
    "TXN[\"establecimiento\"].unique()"
   ]
  },
  {
   "cell_type": "markdown",
   "metadata": {},
   "source": [
    "### Feature Engineering\n",
    "I'll create Customer Variables"
   ]
  },
  {
   "cell_type": "code",
   "execution_count": 6,
   "metadata": {},
   "outputs": [],
   "source": [
    "TXN[\"TXN\"]=1\n",
    "# sum: Types of TXN\n",
    "Approved_TXN=pd.DataFrame(TXN[TXN[\"status_txn\"]==\"Aceptada\"].groupby(\"ID_USER\")[[\"TXN\",\"monto\",\"dcto\",\"cashback\"]].sum()).reset_index()\n",
    "Declined_TXN=pd.DataFrame(TXN[TXN[\"status_txn\"]==\"Rechazada\"].groupby(\"ID_USER\")[[\"TXN\",\"monto\",\"dcto\",\"cashback\"]].sum()).reset_index()\n",
    "In_Process_TXN=pd.DataFrame(TXN[TXN[\"status_txn\"]==\"En proceso\"].groupby(\"ID_USER\")[[\"TXN\",\"monto\",\"dcto\",\"cashback\"]].sum()).reset_index()\n",
    "Fraudulent_TXN=pd.DataFrame(TXN[TXN[\"fraude\"]==True].groupby(\"ID_USER\")[[\"TXN\"]].sum()).reset_index()"
   ]
  },
  {
   "cell_type": "code",
   "execution_count": 7,
   "metadata": {},
   "outputs": [],
   "source": [
    "# Change the column names\n",
    "Approved_TXN.columns=[\"ID_USER\",\"TXN_Aprobadas\",\"Monto_Aprobadas\",\"dcto_Aprobadas\",\n",
    "                      \"cashback_Aprobadas\"]\n",
    "Declined_TXN.columns=[\"ID_USER\",\"TXN_Declinadas\",\"Monto_Declinadas\",\"dcto_Declinadas\",\n",
    "                      \"cashback_Declinadas\"]\n",
    "In_Process_TXN.columns=[\"ID_USER\",\"TXN_En_Proceso\",\"Monto_En_Proceso\",\"dcto_En_Proceso\",\n",
    "                      \"cashback_En_Proceso\"]\n",
    "Fraudulent_TXN.columns=[\"ID_USER\",\"TXN_Fraudulentas\"]"
   ]
  },
  {
   "cell_type": "code",
   "execution_count": 8,
   "metadata": {},
   "outputs": [],
   "source": [
    "# Add the data\n",
    "Customers=Approved_TXN.merge(Declined_TXN,on=\"ID_USER\",how=\"outer\")\n",
    "Customers=Customers.merge(In_Process_TXN,on=\"ID_USER\",how=\"outer\")\n",
    "Customers=Customers.merge(Fraudulent_TXN,on=\"ID_USER\",how=\"outer\")"
   ]
  },
  {
   "cell_type": "code",
   "execution_count": 9,
   "metadata": {},
   "outputs": [
    {
     "data": {
      "text/html": [
       "<div>\n",
       "<style scoped>\n",
       "    .dataframe tbody tr th:only-of-type {\n",
       "        vertical-align: middle;\n",
       "    }\n",
       "\n",
       "    .dataframe tbody tr th {\n",
       "        vertical-align: top;\n",
       "    }\n",
       "\n",
       "    .dataframe thead th {\n",
       "        text-align: right;\n",
       "    }\n",
       "</style>\n",
       "<table border=\"1\" class=\"dataframe\">\n",
       "  <thead>\n",
       "    <tr style=\"text-align: right;\">\n",
       "      <th></th>\n",
       "      <th>ID_USER</th>\n",
       "      <th>TXN_Aprobadas</th>\n",
       "      <th>Monto_Aprobadas</th>\n",
       "      <th>dcto_Aprobadas</th>\n",
       "      <th>cashback_Aprobadas</th>\n",
       "      <th>TXN_Declinadas</th>\n",
       "      <th>Monto_Declinadas</th>\n",
       "      <th>dcto_Declinadas</th>\n",
       "      <th>cashback_Declinadas</th>\n",
       "      <th>TXN_En_Proceso</th>\n",
       "      <th>Monto_En_Proceso</th>\n",
       "      <th>dcto_En_Proceso</th>\n",
       "      <th>cashback_En_Proceso</th>\n",
       "      <th>TXN_Fraudulentas</th>\n",
       "    </tr>\n",
       "  </thead>\n",
       "  <tbody>\n",
       "    <tr>\n",
       "      <th>0</th>\n",
       "      <td>0</td>\n",
       "      <td>2.0</td>\n",
       "      <td>697.064876</td>\n",
       "      <td>60.834563</td>\n",
       "      <td>7.249496</td>\n",
       "      <td>NaN</td>\n",
       "      <td>NaN</td>\n",
       "      <td>NaN</td>\n",
       "      <td>NaN</td>\n",
       "      <td>NaN</td>\n",
       "      <td>NaN</td>\n",
       "      <td>NaN</td>\n",
       "      <td>NaN</td>\n",
       "      <td>NaN</td>\n",
       "    </tr>\n",
       "    <tr>\n",
       "      <th>1</th>\n",
       "      <td>1</td>\n",
       "      <td>5.0</td>\n",
       "      <td>2589.754665</td>\n",
       "      <td>124.631382</td>\n",
       "      <td>32.857413</td>\n",
       "      <td>1.0</td>\n",
       "      <td>37.003747</td>\n",
       "      <td>0.0</td>\n",
       "      <td>0.370037</td>\n",
       "      <td>1.0</td>\n",
       "      <td>790.037653</td>\n",
       "      <td>0.0</td>\n",
       "      <td>15.800753</td>\n",
       "      <td>NaN</td>\n",
       "    </tr>\n",
       "  </tbody>\n",
       "</table>\n",
       "</div>"
      ],
      "text/plain": [
       "   ID_USER  TXN_Aprobadas  Monto_Aprobadas  dcto_Aprobadas  \\\n",
       "0        0            2.0       697.064876       60.834563   \n",
       "1        1            5.0      2589.754665      124.631382   \n",
       "\n",
       "   cashback_Aprobadas  TXN_Declinadas  Monto_Declinadas  dcto_Declinadas  \\\n",
       "0            7.249496             NaN               NaN              NaN   \n",
       "1           32.857413             1.0         37.003747              0.0   \n",
       "\n",
       "   cashback_Declinadas  TXN_En_Proceso  Monto_En_Proceso  dcto_En_Proceso  \\\n",
       "0                  NaN             NaN               NaN              NaN   \n",
       "1             0.370037             1.0        790.037653              0.0   \n",
       "\n",
       "   cashback_En_Proceso  TXN_Fraudulentas  \n",
       "0                  NaN               NaN  \n",
       "1            15.800753               NaN  "
      ]
     },
     "execution_count": 9,
     "metadata": {},
     "output_type": "execute_result"
    }
   ],
   "source": [
    "Customers.head(2)"
   ]
  },
  {
   "cell_type": "code",
   "execution_count": 10,
   "metadata": {},
   "outputs": [],
   "source": [
    "## Replace NaN with 0's\n",
    "Customers=Customers.fillna(0)"
   ]
  },
  {
   "cell_type": "markdown",
   "metadata": {},
   "source": [
    "##### Categorical Data\n",
    "Note: linea_tc is a numerical variable"
   ]
  },
  {
   "cell_type": "code",
   "execution_count": 11,
   "metadata": {},
   "outputs": [],
   "source": [
    "TXN[\"ciudad\"]=TXN[\"ciudad\"].fillna(\"Desconocido\")\n",
    "TXN[\"establecimiento\"]=TXN[\"establecimiento\"].fillna(\"Desconocido\")"
   ]
  },
  {
   "cell_type": "code",
   "execution_count": 14,
   "metadata": {},
   "outputs": [],
   "source": [
    "Establishment_TXN=pd.DataFrame(TXN.groupby(\"ID_USER\")[\"establecimiento\"].apply(lambda x: pd.value_counts(x).index[0])).reset_index()\n",
    "Type_card_TXN=pd.DataFrame(TXN.groupby(\"ID_USER\")[\"tipo_tc\"].apply(lambda x: pd.value_counts(x).index[0])).reset_index()\n",
    "Line_Card=pd.DataFrame(TXN.groupby(\"ID_USER\")[\"linea_tc\"].apply(lambda x: pd.value_counts(x).index[0])).reset_index()"
   ]
  },
  {
   "cell_type": "markdown",
   "metadata": {},
   "source": [
    "##### Add categorical variables to Customer dataset"
   ]
  },
  {
   "cell_type": "code",
   "execution_count": 15,
   "metadata": {},
   "outputs": [],
   "source": [
    "Customers=Customers.merge(Establishment_TXN,on=\"ID_USER\",how=\"left\")\n",
    "Customers=Customers.merge(Type_card_TXN,on=\"ID_USER\",how=\"left\")\n",
    "Customers=Customers.merge(Line_Card,on=\"ID_USER\",how=\"left\")"
   ]
  },
  {
   "cell_type": "code",
   "execution_count": 17,
   "metadata": {},
   "outputs": [
    {
     "data": {
      "text/html": [
       "<div>\n",
       "<style scoped>\n",
       "    .dataframe tbody tr th:only-of-type {\n",
       "        vertical-align: middle;\n",
       "    }\n",
       "\n",
       "    .dataframe tbody tr th {\n",
       "        vertical-align: top;\n",
       "    }\n",
       "\n",
       "    .dataframe thead th {\n",
       "        text-align: right;\n",
       "    }\n",
       "</style>\n",
       "<table border=\"1\" class=\"dataframe\">\n",
       "  <thead>\n",
       "    <tr style=\"text-align: right;\">\n",
       "      <th></th>\n",
       "      <th>ID_USER</th>\n",
       "      <th>TXN_Aprobadas</th>\n",
       "      <th>Monto_Aprobadas</th>\n",
       "      <th>dcto_Aprobadas</th>\n",
       "      <th>cashback_Aprobadas</th>\n",
       "      <th>TXN_Declinadas</th>\n",
       "      <th>Monto_Declinadas</th>\n",
       "      <th>dcto_Declinadas</th>\n",
       "      <th>cashback_Declinadas</th>\n",
       "      <th>TXN_En_Proceso</th>\n",
       "      <th>Monto_En_Proceso</th>\n",
       "      <th>dcto_En_Proceso</th>\n",
       "      <th>cashback_En_Proceso</th>\n",
       "      <th>TXN_Fraudulentas</th>\n",
       "      <th>establecimiento</th>\n",
       "      <th>tipo_tc</th>\n",
       "      <th>linea_tc</th>\n",
       "    </tr>\n",
       "  </thead>\n",
       "  <tbody>\n",
       "    <tr>\n",
       "      <th>0</th>\n",
       "      <td>0</td>\n",
       "      <td>2.0</td>\n",
       "      <td>697.064876</td>\n",
       "      <td>60.834563</td>\n",
       "      <td>7.249496</td>\n",
       "      <td>0.0</td>\n",
       "      <td>0.000000</td>\n",
       "      <td>0.0</td>\n",
       "      <td>0.000000</td>\n",
       "      <td>0.0</td>\n",
       "      <td>0.000000</td>\n",
       "      <td>0.0</td>\n",
       "      <td>0.000000</td>\n",
       "      <td>0.0</td>\n",
       "      <td>Desconocido</td>\n",
       "      <td>Virtual</td>\n",
       "      <td>71000</td>\n",
       "    </tr>\n",
       "    <tr>\n",
       "      <th>1</th>\n",
       "      <td>1</td>\n",
       "      <td>5.0</td>\n",
       "      <td>2589.754665</td>\n",
       "      <td>124.631382</td>\n",
       "      <td>32.857413</td>\n",
       "      <td>1.0</td>\n",
       "      <td>37.003747</td>\n",
       "      <td>0.0</td>\n",
       "      <td>0.370037</td>\n",
       "      <td>1.0</td>\n",
       "      <td>790.037653</td>\n",
       "      <td>0.0</td>\n",
       "      <td>15.800753</td>\n",
       "      <td>0.0</td>\n",
       "      <td>Desconocido</td>\n",
       "      <td>Física</td>\n",
       "      <td>94000</td>\n",
       "    </tr>\n",
       "  </tbody>\n",
       "</table>\n",
       "</div>"
      ],
      "text/plain": [
       "   ID_USER  TXN_Aprobadas  Monto_Aprobadas  dcto_Aprobadas  \\\n",
       "0        0            2.0       697.064876       60.834563   \n",
       "1        1            5.0      2589.754665      124.631382   \n",
       "\n",
       "   cashback_Aprobadas  TXN_Declinadas  Monto_Declinadas  dcto_Declinadas  \\\n",
       "0            7.249496             0.0          0.000000              0.0   \n",
       "1           32.857413             1.0         37.003747              0.0   \n",
       "\n",
       "   cashback_Declinadas  TXN_En_Proceso  Monto_En_Proceso  dcto_En_Proceso  \\\n",
       "0             0.000000             0.0          0.000000              0.0   \n",
       "1             0.370037             1.0        790.037653              0.0   \n",
       "\n",
       "   cashback_En_Proceso  TXN_Fraudulentas establecimiento  tipo_tc  linea_tc  \n",
       "0             0.000000               0.0     Desconocido  Virtual     71000  \n",
       "1            15.800753               0.0     Desconocido   Física     94000  "
      ]
     },
     "execution_count": 17,
     "metadata": {},
     "output_type": "execute_result"
    }
   ],
   "source": [
    "Customers.head(2)"
   ]
  },
  {
   "cell_type": "markdown",
   "metadata": {},
   "source": [
    "#### OHE Categorical Variables"
   ]
  },
  {
   "cell_type": "code",
   "execution_count": 22,
   "metadata": {},
   "outputs": [],
   "source": [
    "enc = OneHotEncoder(handle_unknown='ignore')\n",
    "Categorical_Data=Customers[['establecimiento','tipo_tc']]\n",
    "Categorical_Data=pd.DataFrame.sparse.from_spmatrix(enc.fit_transform(Categorical_Data))\n",
    "Categorical_Data.columns=enc.get_feature_names_out(['establecimiento','tipo_tc'])"
   ]
  },
  {
   "cell_type": "code",
   "execution_count": 24,
   "metadata": {},
   "outputs": [],
   "source": [
    "Customers=pd.concat([Customers,Categorical_Data],axis=1)"
   ]
  },
  {
   "cell_type": "code",
   "execution_count": 26,
   "metadata": {},
   "outputs": [],
   "source": [
    "Customers[\"Is_Fraudster\"]=np.where(Customers[\"TXN_Fraudulentas\"]>0,1,0)"
   ]
  },
  {
   "cell_type": "code",
   "execution_count": 27,
   "metadata": {},
   "outputs": [
    {
     "data": {
      "text/plain": [
       "0    3325\n",
       "1     675\n",
       "Name: Is_Fraudster, dtype: int64"
      ]
     },
     "execution_count": 27,
     "metadata": {},
     "output_type": "execute_result"
    }
   ],
   "source": [
    "Customers[\"Is_Fraudster\"].value_counts()"
   ]
  },
  {
   "cell_type": "code",
   "execution_count": 29,
   "metadata": {},
   "outputs": [
    {
     "data": {
      "text/plain": [
       "Index(['ID_USER', 'TXN_Aprobadas', 'Monto_Aprobadas', 'dcto_Aprobadas',\n",
       "       'cashback_Aprobadas', 'TXN_Declinadas', 'Monto_Declinadas',\n",
       "       'dcto_Declinadas', 'cashback_Declinadas', 'TXN_En_Proceso',\n",
       "       'Monto_En_Proceso', 'dcto_En_Proceso', 'cashback_En_Proceso',\n",
       "       'TXN_Fraudulentas', 'establecimiento', 'tipo_tc', 'linea_tc',\n",
       "       'establecimiento_Abarrotes', 'establecimiento_Desconocido',\n",
       "       'establecimiento_Farmacia', 'establecimiento_MPago',\n",
       "       'establecimiento_Restaurante', 'establecimiento_Super',\n",
       "       'tipo_tc_Física', 'tipo_tc_Virtual', 'Is_Fraudster'],\n",
       "      dtype='object')"
      ]
     },
     "execution_count": 29,
     "metadata": {},
     "output_type": "execute_result"
    }
   ],
   "source": [
    "Customers.columns"
   ]
  },
  {
   "cell_type": "code",
   "execution_count": 31,
   "metadata": {},
   "outputs": [],
   "source": [
    "Predictive_Variables=['TXN_Aprobadas','TXN_Declinadas','TXN_En_Proceso',\n",
    "                      'linea_tc',\n",
    "       'establecimiento_Abarrotes', 'establecimiento_Desconocido',\n",
    "       'establecimiento_Farmacia', 'establecimiento_MPago',\n",
    "       'establecimiento_Restaurante', 'establecimiento_Super',\n",
    "       'tipo_tc_Física', 'tipo_tc_Virtual']"
   ]
  },
  {
   "cell_type": "code",
   "execution_count": 33,
   "metadata": {},
   "outputs": [],
   "source": [
    "X=Customers[Predictive_Variables]\n",
    "Y=Customers[\"Is_Fraudster\"]"
   ]
  },
  {
   "cell_type": "markdown",
   "metadata": {},
   "source": [
    "### Imbalanced dataset\n",
    "The dataset is unbalanced, so we need to apply a technique in order to balance it. I will use Synthetic Minority Oversampling Technique (SMOTE), which synthetic data for the minority class."
   ]
  },
  {
   "cell_type": "code",
   "execution_count": 28,
   "metadata": {},
   "outputs": [],
   "source": [
    "from imblearn.over_sampling import SMOTE"
   ]
  },
  {
   "cell_type": "code",
   "execution_count": 35,
   "metadata": {},
   "outputs": [],
   "source": [
    "smote = SMOTE()\n",
    "x_smote, y_smote = smote.fit_resample(X, Y)\n",
    "# Split the data in training/testing\n",
    "X_train, X_test, Y_train, Y_test = train_test_split( x_smote, y_smote, \n",
    "                                                    test_size=0.2, random_state=40)"
   ]
  },
  {
   "cell_type": "markdown",
   "metadata": {},
   "source": [
    "## Model"
   ]
  },
  {
   "cell_type": "code",
   "execution_count": 40,
   "metadata": {},
   "outputs": [],
   "source": [
    "from xgboost import XGBClassifier"
   ]
  },
  {
   "cell_type": "code",
   "execution_count": 41,
   "metadata": {},
   "outputs": [
    {
     "name": "stdout",
     "output_type": "stream",
     "text": [
      "[12:55:03] WARNING: ../src/learner.cc:1061: Starting in XGBoost 1.3.0, the default evaluation metric used with the objective 'binary:logistic' was changed from 'error' to 'logloss'. Explicitly set eval_metric if you'd like to restore the old behavior.\n"
     ]
    },
    {
     "data": {
      "text/plain": [
       "XGBClassifier(base_score=0.5, booster='gbtree', colsample_bylevel=1,\n",
       "              colsample_bynode=1, colsample_bytree=1, gamma=0, gpu_id=-1,\n",
       "              importance_type='gain', interaction_constraints='',\n",
       "              learning_rate=0.300000012, max_delta_step=0, max_depth=6,\n",
       "              min_child_weight=1, missing=nan, monotone_constraints='()',\n",
       "              n_estimators=100, n_jobs=4, num_parallel_tree=1, random_state=0,\n",
       "              reg_alpha=0, reg_lambda=1, scale_pos_weight=1, subsample=1,\n",
       "              tree_method='exact', validate_parameters=1, verbosity=None)"
      ]
     },
     "execution_count": 41,
     "metadata": {},
     "output_type": "execute_result"
    }
   ],
   "source": [
    "model = XGBClassifier()\n",
    "model.fit(X_train, Y_train)"
   ]
  },
  {
   "cell_type": "markdown",
   "metadata": {},
   "source": [
    "### Testing the model"
   ]
  },
  {
   "cell_type": "code",
   "execution_count": 42,
   "metadata": {},
   "outputs": [
    {
     "name": "stdout",
     "output_type": "stream",
     "text": [
      "Accuracy Training Data:  0.9518796992481203\n",
      "Accuracy Testing Data:  0.8849624060150376\n",
      "Classification error in Testing Data\n",
      "              precision    recall  f1-score   support\n",
      "\n",
      "           0       0.86      0.93      0.89       684\n",
      "           1       0.92      0.84      0.88       646\n",
      "\n",
      "    accuracy                           0.88      1330\n",
      "   macro avg       0.89      0.88      0.88      1330\n",
      "weighted avg       0.89      0.88      0.88      1330\n",
      "\n"
     ]
    }
   ],
   "source": [
    "Y_train_pred=model.predict(X_train)\n",
    "Y_test_pred=model.predict(X_test)\n",
    "print(\"Accuracy Training Data: \", accuracy_score(Y_train,Y_train_pred))\n",
    "print(\"Accuracy Testing Data: \", accuracy_score(Y_test,Y_test_pred))\n",
    "print(\"Classification error in Testing Data\")\n",
    "print(classification_report(Y_test,Y_test_pred))"
   ]
  },
  {
   "cell_type": "markdown",
   "metadata": {},
   "source": [
    "#### Feature Importance"
   ]
  },
  {
   "cell_type": "code",
   "execution_count": 43,
   "metadata": {},
   "outputs": [],
   "source": [
    "from xgboost import plot_importance"
   ]
  },
  {
   "cell_type": "code",
   "execution_count": 62,
   "metadata": {},
   "outputs": [
    {
     "data": {
      "image/png": "[encoded data removed]",
      "text/plain": [
       "<Figure size 432x288 with 1 Axes>"
      ]
     },
     "metadata": {
      "needs_background": "light"
     },
     "output_type": "display_data"
    }
   ],
   "source": [
    "plot_importance(model,max_num_features=10)\n",
    "plt.show()"
   ]
  },
  {
   "cell_type": "code",
   "execution_count": 71,
   "metadata": {},
   "outputs": [
    {
     "data": {
      "text/html": [
       "<div>\n",
       "<style scoped>\n",
       "    .dataframe tbody tr th:only-of-type {\n",
       "        vertical-align: middle;\n",
       "    }\n",
       "\n",
       "    .dataframe tbody tr th {\n",
       "        vertical-align: top;\n",
       "    }\n",
       "\n",
       "    .dataframe thead th {\n",
       "        text-align: right;\n",
       "    }\n",
       "</style>\n",
       "<table border=\"1\" class=\"dataframe\">\n",
       "  <thead>\n",
       "    <tr style=\"text-align: right;\">\n",
       "      <th></th>\n",
       "      <th>linea_tc</th>\n",
       "      <th>TXN_Aprobadas</th>\n",
       "      <th>TXN_En_Proceso</th>\n",
       "      <th>TXN_Declinadas</th>\n",
       "      <th>establecimiento_Desconocido</th>\n",
       "    </tr>\n",
       "    <tr>\n",
       "      <th>Is_Fraudster</th>\n",
       "      <th></th>\n",
       "      <th></th>\n",
       "      <th></th>\n",
       "      <th></th>\n",
       "      <th></th>\n",
       "    </tr>\n",
       "  </thead>\n",
       "  <tbody>\n",
       "    <tr>\n",
       "      <th>0</th>\n",
       "      <td>62531.428571</td>\n",
       "      <td>4.012632</td>\n",
       "      <td>1.163308</td>\n",
       "      <td>0.593383</td>\n",
       "      <td>0.576842</td>\n",
       "    </tr>\n",
       "    <tr>\n",
       "      <th>1</th>\n",
       "      <td>61448.888889</td>\n",
       "      <td>8.151111</td>\n",
       "      <td>2.182222</td>\n",
       "      <td>1.210370</td>\n",
       "      <td>0.675556</td>\n",
       "    </tr>\n",
       "  </tbody>\n",
       "</table>\n",
       "</div>"
      ],
      "text/plain": [
       "                  linea_tc  TXN_Aprobadas  TXN_En_Proceso  TXN_Declinadas  \\\n",
       "Is_Fraudster                                                                \n",
       "0             62531.428571       4.012632        1.163308        0.593383   \n",
       "1             61448.888889       8.151111        2.182222        1.210370   \n",
       "\n",
       "              establecimiento_Desconocido  \n",
       "Is_Fraudster                               \n",
       "0                                0.576842  \n",
       "1                                0.675556  "
      ]
     },
     "execution_count": 71,
     "metadata": {},
     "output_type": "execute_result"
    }
   ],
   "source": [
    "Customers.groupby(\"Is_Fraudster\")[[\"linea_tc\",\"TXN_Aprobadas\",\"TXN_En_Proceso\",\n",
    "                                  \"TXN_Declinadas\",\"establecimiento_Desconocido\"]].mean()"
   ]
  },
  {
   "cell_type": "code",
   "execution_count": 48,
   "metadata": {},
   "outputs": [],
   "source": [
    "model.save_model('Fraudsters_Model.model')"
   ]
  },
  {
   "cell_type": "code",
   "execution_count": 52,
   "metadata": {},
   "outputs": [],
   "source": [
    "import pickle"
   ]
  },
  {
   "cell_type": "code",
   "execution_count": 56,
   "metadata": {},
   "outputs": [
    {
     "data": {
      "text/plain": [
       "0    737\n",
       "1    593\n",
       "dtype: int64"
      ]
     },
     "execution_count": 56,
     "metadata": {},
     "output_type": "execute_result"
    }
   ],
   "source": [
    "pd.Series(model.predict(X_test)).value_counts()"
   ]
  },
  {
   "cell_type": "code",
   "execution_count": 53,
   "metadata": {},
   "outputs": [],
   "source": [
    "filename = 'finalized_model.sav'\n",
    "pickle.dump(model, open(filename, 'wb'))"
   ]
  },
  {
   "cell_type": "code",
   "execution_count": null,
   "metadata": {},
   "outputs": [],
   "source": []
  }
 ],
 "metadata": {
  "kernelspec": {
   "display_name": "Python 3",
   "language": "python",
   "name": "python3"
  },
  "language_info": {
   "codemirror_mode": {
    "name": "ipython",
    "version": 3
   },
   "file_extension": ".py",
   "mimetype": "text/x-python",
   "name": "python",
   "nbconvert_exporter": "python",
   "pygments_lexer": "ipython3",
   "version": "3.7.6"
  }
 },
 "nbformat": 4,
 "nbformat_minor": 4
}
